{
 "cells": [
  {
   "cell_type": "code",
   "execution_count": 1,
   "id": "0defff43",
   "metadata": {},
   "outputs": [],
   "source": [
    "import matplotlib.pyplot as plt\n",
    "from matplotlib import cm\n",
    "from matplotlib.patches import Rectangle"
   ]
  },
  {
   "cell_type": "code",
   "execution_count": 5,
   "id": "8fad86ff",
   "metadata": {},
   "outputs": [],
   "source": [
    "# Feature position positions\n",
    "features = {'leader':(1,266),\n",
    "             'ORF1a': (266,13483),\n",
    "             'ORF1b': (13468, 21555),\n",
    "             'S':(21563, 25384),\n",
    "             'ORF3a':(25393,26220),\n",
    "             'E': (26245, 26472), \n",
    "             'M': (26523, 27191),\n",
    "             'ORF6':(27202, 27387),\n",
    "             'ORF7a': (27394, 27759),\n",
    "             'ORF7b': (27756, 27887),\n",
    "             'ORF8': (27894, 28259),\n",
    "             'N': (28274, 29533),\n",
    "             'ORF9b':(28284, 28577),\n",
    "             'ORF10': (29558, 29674),\n",
    "             '3\\'UTR':(29674, 29904)}\n",
    "\n",
    "# Choose feature colors\n",
    "feature_colors = {'leader':'0.5',\n",
    "             'ORF1a': cm.Set3.colors[0],\n",
    "              'ORF1b': cm.Set2.colors[0],\n",
    "             'S':cm.Set3.colors[1],\n",
    "             'ORF3a':cm.Set3.colors[2],\n",
    "             'E': cm.Set3.colors[3], \n",
    "             'M': cm.Set3.colors[4],\n",
    "             'ORF6':cm.Set3.colors[5],\n",
    "             'ORF7a': cm.Set3.colors[6],\n",
    "             'ORF7b': cm.Set3.colors[7],\n",
    "             'ORF8': cm.Set3.colors[8],\n",
    "             'N': cm.Set3.colors[9],\n",
    "             'ORF9b':cm.Set3.colors[10],\n",
    "             'ORF10': cm.Set3.colors[11],\n",
    "             '3\\'UTR':'0.5'}"
   ]
  },
  {
   "cell_type": "code",
   "execution_count": 6,
   "id": "46b734e0",
   "metadata": {},
   "outputs": [
    {
     "data": {
      "image/png": "[encoded data removed]",
      "text/plain": [
       "<Figure size 1152x28.8 with 1 Axes>"
      ]
     },
     "metadata": {
      "needs_background": "light"
     },
     "output_type": "display_data"
    }
   ],
   "source": [
    "fig, ax = plt.subplots(figsize=(16,.4))\n",
    "\n",
    "rect = {}\n",
    "\n",
    "height = 0.6\n",
    "limits = (0,30_000)\n",
    "\n",
    "for i, f in enumerate(features):\n",
    "    # Calculate offset for alternating features to avoid overlap\n",
    "    dodge = .1 + (i % 2) / 20\n",
    "    \n",
    "    # Create rectangle for the feature\n",
    "    rect[f] = Rectangle(\n",
    "        (features[f][0], dodge), features[f][1] - features[f][0], height,\n",
    "        facecolor=feature_colors[f], linewidth=1, edgecolor='0.0', label=f\n",
    "    )\n",
    "    ax.add_patch(rect[f])\n",
    "    \n",
    "    # Add feature label on top of the rectangle\n",
    "    ax.annotate(\n",
    "        f, (features[f][0] + (features[f][1] - features[f][0]) / 2, dodge + .8),\n",
    "        annotation_clip=False\n",
    "    )\n",
    "\n",
    "# Set axis limits and hide unnecessary elements\n",
    "_ = ax.set(xlim=limits, ylim=(0, height + 0.2))\n",
    "ax.yaxis.set_visible(False)\n",
    "for s in ['top','left','right']:    \n",
    "    ax.spines[s].set_visible(False)\n",
    "\n",
    "# Export image (export as svg for edidting)\n",
    "plt.savefig('./images/genome_feature.png', bbox_inches='tight')"
   ]
  },
  {
   "cell_type": "code",
   "execution_count": null,
   "id": "b996e351",
   "metadata": {},
   "outputs": [],
   "source": []
  }
 ],
 "metadata": {
  "kernelspec": {
   "display_name": "Python 3",
   "language": "python",
   "name": "python3"
  },
  "language_info": {
   "codemirror_mode": {
    "name": "ipython",
    "version": 3
   },
   "file_extension": ".py",
   "mimetype": "text/x-python",
   "name": "python",
   "nbconvert_exporter": "python",
   "pygments_lexer": "ipython3",
   "version": "3.8.8"
  }
 },
 "nbformat": 4,
 "nbformat_minor": 5
}

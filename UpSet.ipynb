{
 "cells": [
  {
   "cell_type": "code",
   "execution_count": null,
   "id": "7f4da5f8",
   "metadata": {},
   "outputs": [],
   "source": [
    "import pandas as pd\n",
    "import numpy as np\n",
    "import matplotlib.pyplot as plt\n",
    "from matplotlib import cm\n",
    "from matplotlib.ticker import FuncFormatter\n",
    "plt.rcParams['svg.fonttype'] = 'none'\n",
    "from upsetplot import UpSet"
   ]
  },
  {
   "cell_type": "markdown",
   "id": "0f1cf28a",
   "metadata": {},
   "source": [
    "# Read dummy data"
   ]
  },
  {
   "cell_type": "code",
   "execution_count": null,
   "id": "37196b0a",
   "metadata": {},
   "outputs": [],
   "source": [
    "df = pd.read_csv('data/dummy_gene_data.csv')"
   ]
  },
  {
   "cell_type": "markdown",
   "id": "13193d75",
   "metadata": {},
   "source": [
    "# Prepare data for upsetplot"
   ]
  },
  {
   "cell_type": "code",
   "execution_count": null,
   "id": "226b5d43",
   "metadata": {},
   "outputs": [],
   "source": [
    "threshold = .1\n",
    "pivot_df = df.pivot_table(index=['gene_id','gene_biotype'], columns='Sample', values='TPM')\n",
    "bool_df = pivot_df > threshold\n",
    "count_df = pivot_df.sum(axis=1).rename('TPM')\n",
    "upset_df = pd.concat([bool_df, count_df], axis=1).reset_index().set_index(samples)"
   ]
  },
  {
   "cell_type": "markdown",
   "id": "d1570f8d",
   "metadata": {},
   "source": [
    "# Define the desired set of intersections\n",
    "Remaining intersections will be pooled within the 'empty' intersection"
   ]
  },
  {
   "cell_type": "code",
   "execution_count": null,
   "id": "d79d834e",
   "metadata": {},
   "outputs": [],
   "source": [
    "intersections_of_interest = [\n",
    "    (True, True, True, True, True),\n",
    "    (False, True, True, True, True),\n",
    "    (True, True, False, False, False),\n",
    "    (True, False, True, False, False),\n",
    "    (True, False, False, True, False),\n",
    "    (True, False, False, False, True),\n",
    "    (True, False, False, False, False),\n",
    "    (False, True, False, False, False),\n",
    "    (False, False, True, False, False),\n",
    "    (False, False, False, True, False),\n",
    "    (False, False, False, False, True)\n",
    "]\n",
    "\n",
    "# Pooled category index\n",
    "pooled_index = (False, False, False, False, False)\n",
    "\n",
    "# Create a new index: keep intersections of interest, map others to pooled_index\n",
    "new_index = [\n",
    "    idx if idx in intersections_of_interest else pooled_index\n",
    "    for idx in upset_df.index\n",
    "]\n",
    "\n",
    "# Create the resulting, simplified dataframe:\n",
    "upset_df_pooled = upset_df.copy()\n",
    "upset_df_pooled.index = pd.MultiIndex.from_tuples(new_index, names=upset_df.index.names)\n",
    "\n",
    "# Optionnal: rescale the data within each intersection:\n",
    "upset_df_pooled['TPM_scaled_per_subset'] = (\n",
    "    10**6 * upset_df_pooled['TPM'] / upset_df_pooled.groupby(level=upset_df_pooled.index.names)['TPM'].transform(sum)\n",
    ")"
   ]
  },
  {
   "cell_type": "markdown",
   "id": "d07dc95b",
   "metadata": {},
   "source": [
    "# Draw the upsetplot"
   ]
  },
  {
   "cell_type": "code",
   "execution_count": null,
   "id": "e3534cec",
   "metadata": {},
   "outputs": [],
   "source": [
    "upset = UpSet(\n",
    "    upset_df_pooled,\n",
    "    subset_size=\"auto\",\n",
    "    intersection_plot_elements=0,\n",
    "    element_size=20,\n",
    "    sort_categories_by='-input',\n",
    "    sort_by='-degree'\n",
    ")\n",
    "\n",
    "upset.add_stacked_bars(\n",
    "    by=\"gene_biotype\",\n",
    "    colors=cm.tab20,\n",
    "    title=\"Biotype\",\n",
    "    elements=5,\n",
    "    sum_over='TPM_scaled_per_subset'\n",
    ")\n",
    "\n",
    "axes = upset.plot()\n",
    "\n",
    "axes['extra0'].set(ylabel='TPM (x $10^6$)')\n",
    "axes['extra0'].xaxis.set_major_formatter(FuncFormatter(lambda x, pos: f'{x * 1e-6}'))\n",
    "axes['totals'].set(xlabel=f'Number of transcripts\\n(>{threshold}TPM)')\n",
    "axes['extra0'].grid(visible=False)\n",
    "axes['totals'].grid(visible=False)\n",
    "\n",
    "plt.legend(loc=(1,-1), frameon=False)"
   ]
  },
  {
   "cell_type": "code",
   "execution_count": null,
   "id": "d2e0c811",
   "metadata": {},
   "outputs": [],
   "source": []
  }
 ],
 "metadata": {
  "kernelspec": {
   "display_name": "Python 3",
   "language": "python",
   "name": "python3"
  },
  "language_info": {
   "codemirror_mode": {
    "name": "ipython",
    "version": 3
   },
   "file_extension": ".py",
   "mimetype": "text/x-python",
   "name": "python",
   "nbconvert_exporter": "python",
   "pygments_lexer": "ipython3",
   "version": "3.8.8"
  }
 },
 "nbformat": 4,
 "nbformat_minor": 5
}

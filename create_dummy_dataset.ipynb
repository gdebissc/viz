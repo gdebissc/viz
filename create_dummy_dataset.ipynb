{
 "cells": [
  {
   "cell_type": "code",
   "execution_count": null,
   "id": "ec02a764",
   "metadata": {},
   "outputs": [],
   "source": [
    "import pandas as pd\n",
    "import numpy as np"
   ]
  },
  {
   "cell_type": "code",
   "execution_count": null,
   "id": "c6c132fe",
   "metadata": {},
   "outputs": [],
   "source": [
    "# Set random seed for reproducibility\n",
    "np.random.seed(42)\n",
    "\n",
    "# Define parameters for dummy data\n",
    "n_genes = 1000\n",
    "samples = ['Sample1', 'Sample2', 'Sample3', 'Sample4', 'Sample5']\n",
    "biotypes = ['protein_coding', 'lncRNA', 'miRNA', 'pseudo', 'unknown']\n",
    "\n",
    "# Create dummy data\n",
    "dummy_data = {\n",
    "    'gene_id': [f'gene_{np.random.randint(1, 101)}' for _ in range(n_genes)],\n",
    "    'TPM': np.random.exponential(scale=10, size=n_genes),  # Exponential distribution for TPM\n",
    "    'gene_biotype': np.random.choice(biotypes, size=n_genes, p=[0.5, 0.2, 0.1, 0.1, 0.1]),  # Weighted probabilities\n",
    "    'Sample': np.random.choice(samples, size=n_genes)  # Added for compatibility with pivot_table\n",
    "}\n",
    "\n",
    "# Create DataFrame\n",
    "df = pd.DataFrame(dummy_data)\n",
    "\n",
    "# Save\n",
    "df.to_csv('data/dummy_gene_data.csv', index=None)"
   ]
  },
  {
   "cell_type": "code",
   "execution_count": null,
   "id": "17ab784c",
   "metadata": {},
   "outputs": [],
   "source": []
  }
 ],
 "metadata": {
  "kernelspec": {
   "display_name": "Python 3",
   "language": "python",
   "name": "python3"
  },
  "language_info": {
   "codemirror_mode": {
    "name": "ipython",
    "version": 3
   },
   "file_extension": ".py",
   "mimetype": "text/x-python",
   "name": "python",
   "nbconvert_exporter": "python",
   "pygments_lexer": "ipython3",
   "version": "3.8.8"
  }
 },
 "nbformat": 4,
 "nbformat_minor": 5
}
